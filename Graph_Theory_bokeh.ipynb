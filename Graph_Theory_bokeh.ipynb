{
 "cells": [
  {
   "cell_type": "code",
   "execution_count": null,
   "metadata": {},
   "outputs": [],
   "source": [
    "import holoviews as hv\n",
    "from holoviews import opts\n",
    "\n",
    "hv.extension('bokeh')\n",
    "\n",
    "defaults = dict(width=600, height=400)\n",
    "hv.opts.defaults(\n",
    "    opts.EdgePaths(**defaults), opts.Graph(**defaults), opts.Nodes(**defaults))"
   ]
  },
  {
   "cell_type": "markdown",
   "metadata": {},
   "source": [
    "# Graph Theory"
   ]
  },
  {
   "cell_type": "markdown",
   "metadata": {},
   "source": [
    "http://www.categories.acsl.org/wiki/index.php?title=Graph_Theory"
   ]
  },
  {
   "cell_type": "markdown",
   "metadata": {},
   "source": [
    "Many problems are naturally formulated in terms of points and connections between them. For example, a computer network has PCs connected by cables, an airline map has cities connected by routes, and a school has rooms connected by hallways. A graph is a mathematical object which models such situations."
   ]
  },
  {
   "cell_type": "markdown",
   "metadata": {},
   "source": [
    "## Overview  \n",
    "A graph is a collection of vertices and edges. An edge is a connection between two vertices (sometimes referred to as nodes). One can draw a graph by marking points for the vertices and drawing lines connecting them for the edges, but the graph is defined independently of the visual representation. For example, the following two drawings represent the same graph:"
   ]
  },
  {
   "cell_type": "code",
   "execution_count": null,
   "metadata": {
    "pycharm": {
     "name": "#%%\n"
    }
   },
   "outputs": [],
   "source": [
    "import networkx as nx"
   ]
  },
  {
   "cell_type": "markdown",
   "metadata": {
    "pycharm": {
     "name": "#%%\n"
    }
   },
   "source": [
    "A graph is a collection of vertices and edges. An edge is a connection between two vertices (nodes).  "
   ]
  },
  {
   "cell_type": "code",
   "execution_count": null,
   "metadata": {
    "pycharm": {
     "name": "#%%\n"
    }
   },
   "outputs": [],
   "source": [
    "graph_alpha = nx.Graph()\n",
    "\n",
    "edges = [['A','B'],['A','D'],['D','B'], ['C','F'], ['G','F'], ['G','H'], ['H','E'], ['G','E']]\n",
    "\n",
    "graph_alpha.add_edges_from(edges)"
   ]
  },
  {
   "cell_type": "code",
   "execution_count": null,
   "metadata": {
    "pycharm": {
     "name": "#%%\n"
    }
   },
   "outputs": [],
   "source": [
    "nx.draw(graph_alpha, with_labels=True,node_color='red')"
   ]
  },
  {
   "cell_type": "code",
   "execution_count": null,
   "metadata": {
    "pycharm": {
     "name": "#%%\n"
    }
   },
   "outputs": [],
   "source": [
    "nx.draw(graph_alpha, with_labels=True,node_color='red')"
   ]
  },
  {
   "cell_type": "code",
   "execution_count": null,
   "metadata": {},
   "outputs": [],
   "source": [
    "hv.Graph.from_networkx(graph_alpha, nx.layout.planar_layout).opts(tools=['hover'],)"
   ]
  },
  {
   "cell_type": "markdown",
   "metadata": {},
   "source": [
    "The precise way to represent this graph is to identify its set of vertices {A, B, C, D, E, F, G}, and its set of edges between these vertices {AB, AD, BD, CF, FG, GH, GE, HE}."
   ]
  },
  {
   "cell_type": "markdown",
   "metadata": {},
   "source": [
    "## Terminology  \n",
    "\n",
    "The edges of the above graph have no directions meaning that the edge from one vertex A to another vertex B is the same as from vertex B to vertex A. Such a graph is called an undirected graph. Similarly, a graph having a direction associated with each edge is known as a directed graph.\n",
    "\n",
    "A path from vertex x to y in a graph is a list of vertices, in which successive vertices are connected by edges in the graph. For example, FGHE is path from F to E in the graph above. A simple path is a path with no vertex repeated. For example, FGHEG is not a simple path.\n",
    "\n",
    "A graph is connected if there is a path from every vertex to every other vertex in the graph. Intuitively, if the vertices were physical objects and the edges were strings connecting them, a connected graph would stay in one piece if picked up by any vertex. A graph which is not connected is made up of connected components. For example, the graph above has two connected components: {A, B, D} and {C, E, F, G, H}.\n",
    "\n",
    "A cycle is a path, which is simple except that the first and last vertex are the same (a path from a point back to itself). For example, the path HEGH is a cycle in our example. Vertices must be listed in the order that they are traveled to make the path; any of the vertices may be listed first. Thus, HEGH and EHGE are different ways to identify the same cycle. For clarity, we list the start / end vertex twice: once at the start of the cycle and once at the end.\n",
    "\n",
    "We’ll denote the number of vertices in a given graph by V and the number of edges by E. Note that E can range anywhere from \\\\((V  to  V^2)\\\\)  or \\\\( V(V−1)/2\\\\) in an undirected graph). Graphs with all edges present are called complete graphs; graphs with relatively few edges present (say less than Vlog(V)) are called sparse; graphs with relatively few edges missing are called dense."
   ]
  },
  {
   "cell_type": "markdown",
   "metadata": {},
   "source": [
    "## Directed Graphs  \n",
    "**Directed graphs**  are graphs which have a direction associated with each edge. An edge xy in a directed graph can be used in a path that goes from x to y but not necessarily from y to x. "
   ]
  },
  {
   "cell_type": "code",
   "execution_count": null,
   "metadata": {
    "pycharm": {
     "name": "#%%\n"
    }
   },
   "outputs": [],
   "source": [
    "graph_di = nx.DiGraph()\n",
    "edges = [['A','B'],['A','D'],['D','B'],['A','D'], ['C','F'], ['F','C'], ['G','F'], ['H','G'], ['H','E'], ['G','E'], ['E','G']]\n",
    "\n",
    "graph_di.add_edges_from(edges)"
   ]
  },
  {
   "cell_type": "markdown",
   "metadata": {},
   "source": [
    "For example, a directed graph similar to our example graph is drawn below:"
   ]
  },
  {
   "cell_type": "code",
   "execution_count": null,
   "metadata": {
    "pycharm": {
     "name": "#%%\n"
    }
   },
   "outputs": [],
   "source": [
    "nx.draw(graph_di, with_labels=True, node_color='red')"
   ]
  },
  {
   "cell_type": "code",
   "execution_count": null,
   "metadata": {
    "pycharm": {
     "name": "#%%\n"
    }
   },
   "outputs": [],
   "source": [
    "nx.draw(graph_di, with_labels=True,node_color='red')"
   ]
  },
  {
   "cell_type": "code",
   "execution_count": null,
   "metadata": {},
   "outputs": [],
   "source": [
    "hv.Graph.from_networkx(graph_di, nx.layout.planar_layout).opts(tools=['hover'],directed=True, arrowhead_length=0.025)"
   ]
  },
  {
   "cell_type": "markdown",
   "metadata": {},
   "source": [
    "This graph is defined as the set of vertices V = {A,B,C,D,E,F,G,H} and the set of edges {AB,AD,DA,DB,EG,GE,HG,HE,GF,CF,FC}.  \n",
    "\n",
    "There is one directed path from G to C (namely, GFC); however, there are no directed paths from C to G. Note that a few of the edges have arrows on both ends, such as the edge between A and D. These dual arrows indicate that there is an edge in each direction, which essentially makes an undirected edge."
   ]
  },
  {
   "cell_type": "markdown",
   "metadata": {},
   "source": [
    "## Trees & Forests\n",
    "A graph with no cycles is called a tree. There is only one path between any two nodes in a tree. A tree with N vertices contains exactly N−1 edges."
   ]
  },
  {
   "cell_type": "code",
   "execution_count": null,
   "metadata": {},
   "outputs": [],
   "source": [
    "graph_tree = nx.Graph()\n",
    "edges = [['A','B'],['B','C'] ,['B','D']]\n",
    "graph_tree.add_edges_from(edges)\n",
    "\n",
    "edges = [['E','F'],['E','G'] ,['G','H'],['G','I'], ['I','J'], ['I','K'], ['I','L']]\n",
    "graph_tree.add_edges_from(edges)\n",
    "\n",
    "nx.draw(graph_tree, with_labels=True,node_color='red')"
   ]
  },
  {
   "cell_type": "code",
   "execution_count": null,
   "metadata": {},
   "outputs": [],
   "source": [
    "hv.Graph.from_networkx(graph_tree, nx.layout.planar_layout).opts(tools=['hover'],directed=False, arrowhead_length=0.025)"
   ]
  },
  {
   "cell_type": "markdown",
   "metadata": {},
   "source": [
    "The two graphs shown above are trees because neither has any cycles and all vertices are connected. The graph on the left has 4 vertices and 3 edges; the graph on the right has 8 vertices and 7 edges. Note that in both cases, because they are trees, the number of edges is one less than the number of vertices.\n",
    "\n",
    "A group of disconnected trees is called a _forest_.\n",
    "\n",
    "A _weighted graph_ is a graph that has a weight (also referred to as a cost) associated with each edge. For example, in a graph used by airlines where cities are vertices and edges are cities with direct flights connecting them, the weight for each edge might be the distance between the cities.\n",
    "\n",
    "A _spanning tree_ of a graph is a subgraph that contains all the vertices and forms a tree. A _minimal spanning_ tree can be found for weighted graphs in order to minimize the cost across an entire network."
   ]
  },
  {
   "cell_type": "markdown",
   "metadata": {},
   "source": [
    "## Adjacency Matrices\n",
    "It is frequently convenient to represent a graph by a matrix known as an adjacency matrix. Consider the following directed graph:"
   ]
  },
  {
   "cell_type": "code",
   "execution_count": null,
   "metadata": {},
   "outputs": [],
   "source": [
    "graph_adj = nx.DiGraph()\n",
    "edges = [['A','B'],['A','D'],['B','D'],['B','C'], ['C','B'],  ]\n",
    "\n",
    "graph_adj.add_edges_from(edges)\n",
    "nx.draw(graph_adj, with_labels=True,node_color='red')"
   ]
  },
  {
   "cell_type": "markdown",
   "metadata": {},
   "source": [
    "To draw the adjacency matrix, we create an **N** by **N** grid and label the rows and columns for each vertex  . Then, place a 1 for each edge in the cell whose row and column correspond to the starting and ending vertices of the edge. Finally, place a 0 in all other cells ."
   ]
  },
  {
   "cell_type": "code",
   "execution_count": null,
   "metadata": {},
   "outputs": [],
   "source": [
    "M = nx.to_pandas_adjacency(graph_adj).astype('int')\n",
    "M"
   ]
  },
  {
   "cell_type": "markdown",
   "metadata": {},
   "source": [
    "By construction, cell (i,j) in the matrix with a value of 1 indicates a direct path from vertex i to vertex j. If we square the matrix, the value in cell (i,j) indicates the number of paths of length 2 from vertex i to vertex j.\n",
    "\n",
    "\\\\(M^2\\\\)"
   ]
  },
  {
   "cell_type": "code",
   "execution_count": null,
   "metadata": {},
   "outputs": [],
   "source": [
    "M2 = M.dot(M)\n",
    "M2"
   ]
  },
  {
   "cell_type": "markdown",
   "metadata": {},
   "source": [
    "For example, the \\\\(M^2\\\\)says that there 2 paths of length 2 from A to C (A → B → C and A → D → C). This also says that there is exactly 1 path of length 2 from A to D (A → B → D), exactly 1 path of length 2 from B to B (B → C → B), and so on.\n",
    "\n",
    "In general, if we raise M to the pth power, the resulting matrix indicates which paths of length p exist in the graph. The value in \\\\(M^p(i,j) \\\\) is the number of paths from vertex i to vertex j."
   ]
  },
  {
   "cell_type": "markdown",
   "metadata": {},
   "source": [
    "### Problem 1  \n",
    "Find the number of different cycles contained in the directed graph with vertices {A, B, C, D, E} and edges {AB, BA, BC, CD, DC, DB, DE}."
   ]
  },
  {
   "cell_type": "code",
   "execution_count": null,
   "metadata": {
    "pycharm": {
     "name": "#%%\n"
    }
   },
   "outputs": [],
   "source": [
    "graph_prob1 = nx.DiGraph()\n",
    "edges = [['A','B'], ['B','A'], ['B','C'], ['C','D'], ['D','C'], ['D','B'], ['D','E']]\n",
    "\n",
    "graph_prob1.add_edges_from(edges)"
   ]
  },
  {
   "cell_type": "markdown",
   "metadata": {},
   "source": [
    "**Solution**: The graph is as follows:"
   ]
  },
  {
   "cell_type": "code",
   "execution_count": null,
   "metadata": {
    "pycharm": {
     "name": "#%%\n"
    }
   },
   "outputs": [],
   "source": [
    "nx.draw(graph_prob1, with_labels=True,node_color='red')"
   ]
  },
  {
   "cell_type": "code",
   "execution_count": null,
   "metadata": {},
   "outputs": [],
   "source": [
    "hv.Graph.from_networkx(graph_prob1, nx.layout.planar_layout).opts(tools=['hover'],directed=True, arrowhead_length=0.025)"
   ]
  },
  {
   "cell_type": "markdown",
   "metadata": {},
   "source": [
    "By inspection, the cycles are: ABA, BCDB, and CDC. Thus, there are 3 cycles in the graph."
   ]
  },
  {
   "cell_type": "code",
   "execution_count": null,
   "metadata": {
    "pycharm": {
     "name": "#%%\n"
    }
   },
   "outputs": [],
   "source": [
    "list(nx.simple_cycles(graph_prob1))"
   ]
  },
  {
   "cell_type": "code",
   "execution_count": null,
   "metadata": {},
   "outputs": [],
   "source": []
  },
  {
   "cell_type": "markdown",
   "metadata": {},
   "source": [
    "### Problem 2 \n",
    "In the following directed graph, find the total number of different paths from vertex A to vertex C of length 2 or 4."
   ]
  },
  {
   "cell_type": "code",
   "execution_count": null,
   "metadata": {
    "pycharm": {
     "name": "#%%\n"
    },
    "scrolled": true
   },
   "outputs": [],
   "source": [
    "graph_prob3 = nx.DiGraph()\n",
    "edges = [['A','A'] , ['B','B'], ['B','C'],['A','C'],['C','A'], ]\n",
    "\n",
    "graph_prob3.add_edges_from(edges)\n",
    "nx.draw(graph_prob3, with_labels=True,node_color='red')"
   ]
  },
  {
   "cell_type": "code",
   "execution_count": null,
   "metadata": {},
   "outputs": [],
   "source": [
    "hv.Graph.from_networkx(graph_prob3, nx.layout.planar_layout).opts(tools=['hover'],directed=True, arrowhead_length=0.025)"
   ]
  },
  {
   "cell_type": "code",
   "execution_count": null,
   "metadata": {},
   "outputs": [],
   "source": []
  },
  {
   "cell_type": "code",
   "execution_count": null,
   "metadata": {
    "pycharm": {
     "name": "#%%\n"
    }
   },
   "outputs": [],
   "source": [
    "graph_prob3.edges"
   ]
  },
  {
   "cell_type": "code",
   "execution_count": null,
   "metadata": {
    "pycharm": {
     "name": "#%%\n"
    },
    "scrolled": true
   },
   "outputs": [],
   "source": [
    "M = nx.to_pandas_adjacency(graph_prob3)\n",
    "M"
   ]
  },
  {
   "cell_type": "code",
   "execution_count": null,
   "metadata": {
    "pycharm": {
     "name": "#%%\n"
    },
    "scrolled": true
   },
   "outputs": [],
   "source": [
    "M2 = M.dot(M)\n",
    "M2"
   ]
  },
  {
   "cell_type": "code",
   "execution_count": null,
   "metadata": {
    "pycharm": {
     "name": "#%%\n"
    },
    "scrolled": true
   },
   "outputs": [],
   "source": [
    "M4 = M2.dot(M2)\n",
    "M4"
   ]
  },
  {
   "cell_type": "markdown",
   "metadata": {},
   "source": [
    "### Problem 3 \n",
    "In the following directed graph, find the total number of different paths from vertex A to vertex C of length 2 or 4."
   ]
  },
  {
   "cell_type": "code",
   "execution_count": null,
   "metadata": {
    "pycharm": {
     "name": "#%%\n"
    }
   },
   "outputs": [],
   "source": [
    "graph_prob2 = nx.DiGraph()\n",
    "edges = [['A','B'], ['A','C'], ['B','C'],['C','B'],['A','A'] ]\n",
    "\n",
    "graph_prob2.add_edges_from(edges)"
   ]
  },
  {
   "cell_type": "code",
   "execution_count": null,
   "metadata": {
    "pycharm": {
     "name": "#%%\n"
    }
   },
   "outputs": [],
   "source": [
    "nx.draw(graph_prob2, with_labels=True,node_color='red')"
   ]
  },
  {
   "cell_type": "code",
   "execution_count": null,
   "metadata": {},
   "outputs": [],
   "source": [
    "hv.Graph.from_networkx(graph_prob2, nx.layout.planar_layout).opts(tools=['hover'],directed=True, arrowhead_length=0.025)"
   ]
  },
  {
   "cell_type": "code",
   "execution_count": null,
   "metadata": {
    "pycharm": {
     "name": "#%%\n"
    }
   },
   "outputs": [],
   "source": [
    "graph_prob2.edges"
   ]
  },
  {
   "cell_type": "markdown",
   "metadata": {},
   "source": [
    "**Solution - Method 1 : Just by looking at the figure and counting the paths**  \n",
    "Try to do this way by counting paths one by one - it is tedious and you may miss some paths, to be organized, count paths starting from each vertex separately and add them up.  "
   ]
  },
  {
   "cell_type": "markdown",
   "metadata": {},
   "source": [
    "**Solution - Method 2 : Using the Adjacency matrix**  \n",
    "First we write the adjacency matrix M for this graph"
   ]
  },
  {
   "cell_type": "code",
   "execution_count": null,
   "metadata": {
    "pycharm": {
     "name": "#%%\n"
    }
   },
   "outputs": [],
   "source": [
    "M = nx.to_pandas_adjacency(graph_prob2)\n",
    "M"
   ]
  },
  {
   "cell_type": "markdown",
   "metadata": {},
   "source": [
    "Then we compute M2 = M x M, Because we are trying to find path length “2”"
   ]
  },
  {
   "cell_type": "code",
   "execution_count": null,
   "metadata": {
    "pycharm": {
     "name": "#%%\n"
    }
   },
   "outputs": [],
   "source": [
    "M2 = M.dot(M)\n",
    "M2"
   ]
  },
  {
   "cell_type": "markdown",
   "metadata": {},
   "source": [
    "if have to find find path length “3”, we compute M3 = M x M x M = M2 x M"
   ]
  },
  {
   "cell_type": "code",
   "execution_count": null,
   "metadata": {
    "pycharm": {
     "name": "#%%\n"
    }
   },
   "outputs": [],
   "source": [
    "M3 = M2.dot(M)\n",
    "M3"
   ]
  },
  {
   "cell_type": "markdown",
   "metadata": {},
   "source": [
    "### Problem 4  \n",
    "How many paths of length 2 exist in this directed graph?"
   ]
  },
  {
   "cell_type": "code",
   "execution_count": null,
   "metadata": {
    "pycharm": {
     "name": "#%%\n"
    }
   },
   "outputs": [],
   "source": [
    "graph_prob4 = nx.DiGraph()\n",
    "edges = [['A','A'] , ['A','B'], ['A','C'],['C','A'],['C','B'], ]\n",
    "\n",
    "graph_prob4.add_edges_from(edges)"
   ]
  },
  {
   "cell_type": "code",
   "execution_count": null,
   "metadata": {
    "pycharm": {
     "name": "#%%\n"
    }
   },
   "outputs": [],
   "source": [
    "nx.draw(graph_prob4, with_labels=True ,node_color='red')"
   ]
  },
  {
   "cell_type": "code",
   "execution_count": null,
   "metadata": {
    "pycharm": {
     "name": "#%%\n"
    }
   },
   "outputs": [],
   "source": [
    "graph_prob4.edges"
   ]
  },
  {
   "cell_type": "code",
   "execution_count": null,
   "metadata": {
    "pycharm": {
     "name": "#%%\n"
    }
   },
   "outputs": [],
   "source": [
    "M = nx.to_pandas_adjacency(graph_prob4)\n",
    "M"
   ]
  },
  {
   "cell_type": "code",
   "execution_count": null,
   "metadata": {
    "pycharm": {
     "name": "#%%\n"
    }
   },
   "outputs": [],
   "source": [
    "M2 = M.dot(M)\n",
    "M2"
   ]
  },
  {
   "cell_type": "markdown",
   "metadata": {},
   "source": [
    "### Problem 5  \n",
    "Write the adjacency matrix for the directed graph."
   ]
  },
  {
   "cell_type": "code",
   "execution_count": null,
   "metadata": {
    "pycharm": {
     "name": "#%%\n"
    }
   },
   "outputs": [],
   "source": [
    "graph_prob5 = nx.DiGraph()\n",
    "edges = [['A','A'] , ['B','C'], ['B','D'], ['A','C'],['A','D'],['D','A'],['C','C'], ]\n",
    "\n",
    "graph_prob5.add_edges_from(edges)"
   ]
  },
  {
   "cell_type": "code",
   "execution_count": null,
   "metadata": {
    "pycharm": {
     "name": "#%%\n"
    }
   },
   "outputs": [],
   "source": [
    "nx.draw(graph_prob5, with_labels=True,node_color='red')"
   ]
  },
  {
   "cell_type": "code",
   "execution_count": null,
   "metadata": {
    "pycharm": {
     "name": "#%%\n"
    }
   },
   "outputs": [],
   "source": [
    "graph_prob5.edges()"
   ]
  },
  {
   "cell_type": "code",
   "execution_count": null,
   "metadata": {
    "pycharm": {
     "name": "#%%\n"
    }
   },
   "outputs": [],
   "source": [
    "nx.to_pandas_adjacency(graph_prob5)"
   ]
  },
  {
   "cell_type": "markdown",
   "metadata": {},
   "source": [
    "### Neighbours of B"
   ]
  },
  {
   "cell_type": "code",
   "execution_count": null,
   "metadata": {},
   "outputs": [],
   "source": [
    "graph_prob5['B']"
   ]
  },
  {
   "cell_type": "markdown",
   "metadata": {},
   "source": [
    "### Neighbours of C"
   ]
  },
  {
   "cell_type": "code",
   "execution_count": null,
   "metadata": {},
   "outputs": [],
   "source": [
    "graph_prob5['C']"
   ]
  },
  {
   "cell_type": "markdown",
   "metadata": {},
   "source": [
    "### Shortest Path"
   ]
  },
  {
   "cell_type": "code",
   "execution_count": null,
   "metadata": {},
   "outputs": [],
   "source": [
    "graph_kite = nx.krackhardt_kite_graph()\n",
    "nx.draw(graph_kite, with_labels=True,node_color='red')"
   ]
  },
  {
   "cell_type": "code",
   "execution_count": null,
   "metadata": {},
   "outputs": [],
   "source": [
    "nx.shortest_path(graph_kite,2,4)"
   ]
  },
  {
   "cell_type": "code",
   "execution_count": null,
   "metadata": {},
   "outputs": [],
   "source": [
    "graph_kantor = nx.moebius_kantor_graph()\n",
    "nx.draw(graph_kantor, with_labels=True,node_color='red')"
   ]
  },
  {
   "cell_type": "code",
   "execution_count": null,
   "metadata": {},
   "outputs": [],
   "source": [
    "nx.shortest_path(graph_kantor,1,4)"
   ]
  },
  {
   "cell_type": "code",
   "execution_count": null,
   "metadata": {},
   "outputs": [],
   "source": [
    "graph_women = nx.davis_southern_women_graph()"
   ]
  },
  {
   "cell_type": "code",
   "execution_count": null,
   "metadata": {},
   "outputs": [],
   "source": [
    "graph_women.nodes"
   ]
  },
  {
   "cell_type": "code",
   "execution_count": null,
   "metadata": {},
   "outputs": [],
   "source": [
    "nx.draw(graph_women, with_labels=True,node_color='red')"
   ]
  },
  {
   "cell_type": "code",
   "execution_count": null,
   "metadata": {},
   "outputs": [],
   "source": [
    "nx.shortest_path(graph_women,'Flora Price', 'Eleanor Nye')"
   ]
  },
  {
   "cell_type": "code",
   "execution_count": null,
   "metadata": {},
   "outputs": [],
   "source": [
    "nx.draw(graph_kite, with_labels=True,node_color='red')"
   ]
  },
  {
   "cell_type": "code",
   "execution_count": null,
   "metadata": {},
   "outputs": [],
   "source": [
    "list(nx.all_pairs_shortest_path(graph_kite))"
   ]
  },
  {
   "cell_type": "markdown",
   "metadata": {},
   "source": [
    "# Problems"
   ]
  },
  {
   "cell_type": "markdown",
   "metadata": {},
   "source": [
    "### 1. Show  adjacency Matrix of the following graph"
   ]
  },
  {
   "cell_type": "code",
   "execution_count": null,
   "metadata": {},
   "outputs": [],
   "source": [
    "graph_house = nx.house_x_graph()\n",
    "nx.draw(graph_house, with_labels=True,node_color='red')"
   ]
  },
  {
   "cell_type": "code",
   "execution_count": null,
   "metadata": {},
   "outputs": [],
   "source": []
  },
  {
   "cell_type": "markdown",
   "metadata": {},
   "source": [
    "### 2. Show the shortest route from 9 to 2"
   ]
  },
  {
   "cell_type": "code",
   "execution_count": null,
   "metadata": {},
   "outputs": [],
   "source": [
    "nx.draw(graph_kite, with_labels=True,node_color='red')"
   ]
  },
  {
   "cell_type": "code",
   "execution_count": null,
   "metadata": {},
   "outputs": [],
   "source": []
  },
  {
   "cell_type": "markdown",
   "metadata": {},
   "source": [
    "### 3. Who are 'Dorothy Murchison' 's friends"
   ]
  },
  {
   "cell_type": "code",
   "execution_count": null,
   "metadata": {},
   "outputs": [],
   "source": [
    "nx.draw(graph_women, with_labels=True,node_color='red')"
   ]
  },
  {
   "cell_type": "code",
   "execution_count": null,
   "metadata": {},
   "outputs": [],
   "source": []
  }
 ],
 "metadata": {
  "kernelspec": {
   "display_name": "Python 3",
   "language": "python",
   "name": "python3"
  },
  "language_info": {
   "codemirror_mode": {
    "name": "ipython",
    "version": 3
   },
   "file_extension": ".py",
   "mimetype": "text/x-python",
   "name": "python",
   "nbconvert_exporter": "python",
   "pygments_lexer": "ipython3",
   "version": "3.8.6"
  }
 },
 "nbformat": 4,
 "nbformat_minor": 1
}
